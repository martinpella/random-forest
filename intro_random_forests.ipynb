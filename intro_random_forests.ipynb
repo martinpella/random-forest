{
 "cells": [
  {
   "cell_type": "code",
   "execution_count": 1,
   "metadata": {
    "collapsed": true
   },
   "outputs": [],
   "source": [
    "import numpy as np\n",
    "import pandas as pd\n",
    "import matplotlib.pyplot as plt\n",
    "import seaborn as sns\n",
    "%matplotlib inline"
   ]
  },
  {
   "cell_type": "code",
   "execution_count": 2,
   "metadata": {
    "collapsed": true
   },
   "outputs": [],
   "source": [
    "from fastai.structured import *\n",
    "from sklearn.ensemble import RandomForestRegressor\n",
    "from sklearn import metrics"
   ]
  },
  {
   "cell_type": "code",
   "execution_count": 3,
   "metadata": {
    "collapsed": true
   },
   "outputs": [],
   "source": [
    "df = pd.read_csv('data/hour.csv')"
   ]
  },
  {
   "cell_type": "code",
   "execution_count": 4,
   "metadata": {},
   "outputs": [
    {
     "data": {
      "text/html": [
       "<div>\n",
       "<style>\n",
       "    .dataframe thead tr:only-child th {\n",
       "        text-align: right;\n",
       "    }\n",
       "\n",
       "    .dataframe thead th {\n",
       "        text-align: left;\n",
       "    }\n",
       "\n",
       "    .dataframe tbody tr th {\n",
       "        vertical-align: top;\n",
       "    }\n",
       "</style>\n",
       "<table border=\"1\" class=\"dataframe\">\n",
       "  <thead>\n",
       "    <tr style=\"text-align: right;\">\n",
       "      <th></th>\n",
       "      <th>instant</th>\n",
       "      <th>dteday</th>\n",
       "      <th>season</th>\n",
       "      <th>yr</th>\n",
       "      <th>mnth</th>\n",
       "      <th>hr</th>\n",
       "      <th>holiday</th>\n",
       "      <th>weekday</th>\n",
       "      <th>workingday</th>\n",
       "      <th>weathersit</th>\n",
       "      <th>temp</th>\n",
       "      <th>atemp</th>\n",
       "      <th>hum</th>\n",
       "      <th>windspeed</th>\n",
       "      <th>casual</th>\n",
       "      <th>registered</th>\n",
       "      <th>cnt</th>\n",
       "    </tr>\n",
       "  </thead>\n",
       "  <tbody>\n",
       "    <tr>\n",
       "      <th>0</th>\n",
       "      <td>1</td>\n",
       "      <td>2011-01-01</td>\n",
       "      <td>1</td>\n",
       "      <td>0</td>\n",
       "      <td>1</td>\n",
       "      <td>0</td>\n",
       "      <td>0</td>\n",
       "      <td>6</td>\n",
       "      <td>0</td>\n",
       "      <td>1</td>\n",
       "      <td>0.24</td>\n",
       "      <td>0.2879</td>\n",
       "      <td>0.81</td>\n",
       "      <td>0.0</td>\n",
       "      <td>3</td>\n",
       "      <td>13</td>\n",
       "      <td>16</td>\n",
       "    </tr>\n",
       "    <tr>\n",
       "      <th>1</th>\n",
       "      <td>2</td>\n",
       "      <td>2011-01-01</td>\n",
       "      <td>1</td>\n",
       "      <td>0</td>\n",
       "      <td>1</td>\n",
       "      <td>1</td>\n",
       "      <td>0</td>\n",
       "      <td>6</td>\n",
       "      <td>0</td>\n",
       "      <td>1</td>\n",
       "      <td>0.22</td>\n",
       "      <td>0.2727</td>\n",
       "      <td>0.80</td>\n",
       "      <td>0.0</td>\n",
       "      <td>8</td>\n",
       "      <td>32</td>\n",
       "      <td>40</td>\n",
       "    </tr>\n",
       "    <tr>\n",
       "      <th>2</th>\n",
       "      <td>3</td>\n",
       "      <td>2011-01-01</td>\n",
       "      <td>1</td>\n",
       "      <td>0</td>\n",
       "      <td>1</td>\n",
       "      <td>2</td>\n",
       "      <td>0</td>\n",
       "      <td>6</td>\n",
       "      <td>0</td>\n",
       "      <td>1</td>\n",
       "      <td>0.22</td>\n",
       "      <td>0.2727</td>\n",
       "      <td>0.80</td>\n",
       "      <td>0.0</td>\n",
       "      <td>5</td>\n",
       "      <td>27</td>\n",
       "      <td>32</td>\n",
       "    </tr>\n",
       "    <tr>\n",
       "      <th>3</th>\n",
       "      <td>4</td>\n",
       "      <td>2011-01-01</td>\n",
       "      <td>1</td>\n",
       "      <td>0</td>\n",
       "      <td>1</td>\n",
       "      <td>3</td>\n",
       "      <td>0</td>\n",
       "      <td>6</td>\n",
       "      <td>0</td>\n",
       "      <td>1</td>\n",
       "      <td>0.24</td>\n",
       "      <td>0.2879</td>\n",
       "      <td>0.75</td>\n",
       "      <td>0.0</td>\n",
       "      <td>3</td>\n",
       "      <td>10</td>\n",
       "      <td>13</td>\n",
       "    </tr>\n",
       "    <tr>\n",
       "      <th>4</th>\n",
       "      <td>5</td>\n",
       "      <td>2011-01-01</td>\n",
       "      <td>1</td>\n",
       "      <td>0</td>\n",
       "      <td>1</td>\n",
       "      <td>4</td>\n",
       "      <td>0</td>\n",
       "      <td>6</td>\n",
       "      <td>0</td>\n",
       "      <td>1</td>\n",
       "      <td>0.24</td>\n",
       "      <td>0.2879</td>\n",
       "      <td>0.75</td>\n",
       "      <td>0.0</td>\n",
       "      <td>0</td>\n",
       "      <td>1</td>\n",
       "      <td>1</td>\n",
       "    </tr>\n",
       "  </tbody>\n",
       "</table>\n",
       "</div>"
      ],
      "text/plain": [
       "   instant      dteday  season  yr  mnth  hr  holiday  weekday  workingday  \\\n",
       "0        1  2011-01-01       1   0     1   0        0        6           0   \n",
       "1        2  2011-01-01       1   0     1   1        0        6           0   \n",
       "2        3  2011-01-01       1   0     1   2        0        6           0   \n",
       "3        4  2011-01-01       1   0     1   3        0        6           0   \n",
       "4        5  2011-01-01       1   0     1   4        0        6           0   \n",
       "\n",
       "   weathersit  temp   atemp   hum  windspeed  casual  registered  cnt  \n",
       "0           1  0.24  0.2879  0.81        0.0       3          13   16  \n",
       "1           1  0.22  0.2727  0.80        0.0       8          32   40  \n",
       "2           1  0.22  0.2727  0.80        0.0       5          27   32  \n",
       "3           1  0.24  0.2879  0.75        0.0       3          10   13  \n",
       "4           1  0.24  0.2879  0.75        0.0       0           1    1  "
      ]
     },
     "execution_count": 4,
     "metadata": {},
     "output_type": "execute_result"
    }
   ],
   "source": [
    "df.head()"
   ]
  },
  {
   "cell_type": "code",
   "execution_count": 5,
   "metadata": {
    "collapsed": true
   },
   "outputs": [],
   "source": [
    "#df['cnt'] = np.log1p(df['cnt'])"
   ]
  },
  {
   "cell_type": "code",
   "execution_count": 6,
   "metadata": {
    "collapsed": true
   },
   "outputs": [],
   "source": [
    "train_df = df.loc[df['dteday'] < '2012-07-01']\n",
    "valid_df = df.loc[df['dteday'] > '2012-07-01']"
   ]
  },
  {
   "cell_type": "code",
   "execution_count": 7,
   "metadata": {
    "collapsed": true
   },
   "outputs": [],
   "source": [
    "X_train, y_train, nas = proc_df(train_df, 'cnt', skip_flds=['instant', 'dteday', 'casual', 'registered'])\n",
    "X_valid, y_valid, _ = proc_df(valid_df, 'cnt', skip_flds=['instant', 'dteday', 'casual', 'registered'])"
   ]
  },
  {
   "cell_type": "code",
   "execution_count": 8,
   "metadata": {},
   "outputs": [
    {
     "data": {
      "text/plain": [
       "((13003, 12), (4352, 12))"
      ]
     },
     "execution_count": 8,
     "metadata": {},
     "output_type": "execute_result"
    }
   ],
   "source": [
    "X_train.shape, X_valid.shape"
   ]
  },
  {
   "cell_type": "code",
   "execution_count": 11,
   "metadata": {
    "collapsed": true
   },
   "outputs": [],
   "source": [
    "def rmsle(pred, targ):\n",
    "    return np.sqrt(((np.log1p(pred) - np.log1p(targ)) ** 2).mean())\n",
    "\n",
    "def print_score(m):\n",
    "    res = [rmsle(m.predict(X_train), y_train), rmsle(m.predict(X_valid), y_valid), \n",
    "           m.score(X_train, y_train), m.score(X_valid, y_valid)]\n",
    "    \n",
    "    if hasattr(m, 'oob_score_'): res.append(m.oob_score_)\n",
    "    print(res)"
   ]
  },
  {
   "cell_type": "code",
   "execution_count": 13,
   "metadata": {},
   "outputs": [
    {
     "name": "stdout",
     "output_type": "stream",
     "text": [
      "[0.7983976809584434, 0.7299522035425197, 0.49136305225068927, 0.40793170460292566]\n"
     ]
    }
   ],
   "source": [
    "model = RandomForestRegressor(n_estimators=1, max_depth=3, bootstrap=False)\n",
    "model.fit(X_train, y_train)\n",
    "print_score(model)"
   ]
  },
  {
   "cell_type": "code",
   "execution_count": 14,
   "metadata": {
    "scrolled": false
   },
   "outputs": [
    {
     "data": {
      "image/svg+xml": [
       "<?xml version=\"1.0\" encoding=\"UTF-8\" standalone=\"no\"?>\n",
       "<!DOCTYPE svg PUBLIC \"-//W3C//DTD SVG 1.1//EN\"\n",
       " \"http://www.w3.org/Graphics/SVG/1.1/DTD/svg11.dtd\">\n",
       "<!-- Generated by graphviz version 2.40.1 (20161225.0304)\n",
       " -->\n",
       "<!-- Title: Tree Pages: 1 -->\n",
       "<svg width=\"720pt\" height=\"434pt\"\n",
       " viewBox=\"0.00 0.00 720.00 434.49\" xmlns=\"http://www.w3.org/2000/svg\" xmlns:xlink=\"http://www.w3.org/1999/xlink\">\n",
       "<g id=\"graph0\" class=\"graph\" transform=\"scale(.7787 .7787) rotate(0) translate(4 554)\">\n",
       "<title>Tree</title>\n",
       "<polygon fill=\"#ffffff\" stroke=\"transparent\" points=\"-4,4 -4,-554 920.6667,-554 920.6667,4 -4,4\"/>\n",
       "<!-- 0 -->\n",
       "<g id=\"node1\" class=\"node\">\n",
       "<title>0</title>\n",
       "<polygon fill=\"#e58139\" fill-opacity=\"0.439216\" stroke=\"#000000\" points=\"150.1667,-336.5 37.1667,-336.5 37.1667,-268.5 150.1667,-268.5 150.1667,-336.5\"/>\n",
       "<text text-anchor=\"start\" x=\"71.1667\" y=\"-321.3\" font-family=\"Times,serif\" font-size=\"14.00\" fill=\"#000000\">hr ≤ 6.5</text>\n",
       "<text text-anchor=\"start\" x=\"45.1667\" y=\"-306.3\" font-family=\"Times,serif\" font-size=\"14.00\" fill=\"#000000\">mse = 25849.985</text>\n",
       "<text text-anchor=\"start\" x=\"46.6667\" y=\"-291.3\" font-family=\"Times,serif\" font-size=\"14.00\" fill=\"#000000\">samples = 13003</text>\n",
       "<text text-anchor=\"start\" x=\"48.6667\" y=\"-276.3\" font-family=\"Times,serif\" font-size=\"14.00\" fill=\"#000000\">value = 167.713</text>\n",
       "</g>\n",
       "<!-- 1 -->\n",
       "<g id=\"node2\" class=\"node\">\n",
       "<title>1</title>\n",
       "<polygon fill=\"#e58139\" fill-opacity=\"0.043137\" stroke=\"#000000\" points=\"387.6667,-372.5 281.6667,-372.5 281.6667,-304.5 387.6667,-304.5 387.6667,-372.5\"/>\n",
       "<text text-anchor=\"start\" x=\"312.1667\" y=\"-357.3\" font-family=\"Times,serif\" font-size=\"14.00\" fill=\"#000000\">hr ≤ 5.5</text>\n",
       "<text text-anchor=\"start\" x=\"289.6667\" y=\"-342.3\" font-family=\"Times,serif\" font-size=\"14.00\" fill=\"#000000\">mse = 1159.536</text>\n",
       "<text text-anchor=\"start\" x=\"290.6667\" y=\"-327.3\" font-family=\"Times,serif\" font-size=\"14.00\" fill=\"#000000\">samples = 3730</text>\n",
       "<text text-anchor=\"start\" x=\"293.1667\" y=\"-312.3\" font-family=\"Times,serif\" font-size=\"14.00\" fill=\"#000000\">value = 28.352</text>\n",
       "</g>\n",
       "<!-- 0&#45;&gt;1 -->\n",
       "<g id=\"edge1\" class=\"edge\">\n",
       "<title>0&#45;&gt;1</title>\n",
       "<path fill=\"none\" stroke=\"#000000\" d=\"M150.1705,-310.9404C186.4138,-316.3543 233.5383,-323.3937 271.0885,-329.0028\"/>\n",
       "<polygon fill=\"#000000\" stroke=\"#000000\" points=\"271.0013,-332.5286 281.4087,-330.5444 272.0355,-325.6054 271.0013,-332.5286\"/>\n",
       "<text text-anchor=\"middle\" x=\"261.3133\" y=\"-341.7165\" font-family=\"Times,serif\" font-size=\"14.00\" fill=\"#000000\">True</text>\n",
       "</g>\n",
       "<!-- 8 -->\n",
       "<g id=\"node9\" class=\"node\">\n",
       "<title>8</title>\n",
       "<polygon fill=\"#e58139\" fill-opacity=\"0.600000\" stroke=\"#000000\" points=\"387.6667,-245.5 281.6667,-245.5 281.6667,-177.5 387.6667,-177.5 387.6667,-245.5\"/>\n",
       "<text text-anchor=\"start\" x=\"300.6667\" y=\"-230.3\" font-family=\"Times,serif\" font-size=\"14.00\" fill=\"#000000\">temp ≤ 0.47</text>\n",
       "<text text-anchor=\"start\" x=\"289.6667\" y=\"-215.3\" font-family=\"Times,serif\" font-size=\"14.00\" fill=\"#000000\">mse = 24826.89</text>\n",
       "<text text-anchor=\"start\" x=\"290.6667\" y=\"-200.3\" font-family=\"Times,serif\" font-size=\"14.00\" fill=\"#000000\">samples = 9273</text>\n",
       "<text text-anchor=\"start\" x=\"289.6667\" y=\"-185.3\" font-family=\"Times,serif\" font-size=\"14.00\" fill=\"#000000\">value = 223.771</text>\n",
       "</g>\n",
       "<!-- 0&#45;&gt;8 -->\n",
       "<g id=\"edge8\" class=\"edge\">\n",
       "<title>0&#45;&gt;8</title>\n",
       "<path fill=\"none\" stroke=\"#000000\" d=\"M150.1705,-281.1645C186.7236,-267.3623 234.3446,-249.3809 272.0492,-235.1439\"/>\n",
       "<polygon fill=\"#000000\" stroke=\"#000000\" points=\"273.2898,-238.4168 281.4087,-231.6099 270.817,-231.8681 273.2898,-238.4168\"/>\n",
       "<text text-anchor=\"middle\" x=\"258.6261\" y=\"-217.6165\" font-family=\"Times,serif\" font-size=\"14.00\" fill=\"#000000\">False</text>\n",
       "</g>\n",
       "<!-- 2 -->\n",
       "<g id=\"node3\" class=\"node\">\n",
       "<title>2</title>\n",
       "<polygon fill=\"#e58139\" fill-opacity=\"0.023529\" stroke=\"#000000\" points=\"627.6667,-486.5 523.6667,-486.5 523.6667,-418.5 627.6667,-418.5 627.6667,-486.5\"/>\n",
       "<text text-anchor=\"start\" x=\"553.1667\" y=\"-471.3\" font-family=\"Times,serif\" font-size=\"14.00\" fill=\"#000000\">hr ≤ 1.5</text>\n",
       "<text text-anchor=\"start\" x=\"534.1667\" y=\"-456.3\" font-family=\"Times,serif\" font-size=\"14.00\" fill=\"#000000\">mse = 685.975</text>\n",
       "<text text-anchor=\"start\" x=\"531.6667\" y=\"-441.3\" font-family=\"Times,serif\" font-size=\"14.00\" fill=\"#000000\">samples = 3187</text>\n",
       "<text text-anchor=\"start\" x=\"534.1667\" y=\"-426.3\" font-family=\"Times,serif\" font-size=\"14.00\" fill=\"#000000\">value = 21.872</text>\n",
       "</g>\n",
       "<!-- 1&#45;&gt;2 -->\n",
       "<g id=\"edge2\" class=\"edge\">\n",
       "<title>1&#45;&gt;2</title>\n",
       "<path fill=\"none\" stroke=\"#000000\" d=\"M387.8535,-363.6589C425.1972,-381.3236 475.2405,-404.9955 514.2798,-423.4622\"/>\n",
       "<polygon fill=\"#000000\" stroke=\"#000000\" points=\"512.9083,-426.6852 523.4446,-427.7974 515.9015,-420.3575 512.9083,-426.6852\"/>\n",
       "</g>\n",
       "<!-- 5 -->\n",
       "<g id=\"node6\" class=\"node\">\n",
       "<title>5</title>\n",
       "<polygon fill=\"#e58139\" fill-opacity=\"0.149020\" stroke=\"#000000\" points=\"632.6667,-372.5 518.6667,-372.5 518.6667,-304.5 632.6667,-304.5 632.6667,-372.5\"/>\n",
       "<text text-anchor=\"start\" x=\"526.6667\" y=\"-357.3\" font-family=\"Times,serif\" font-size=\"14.00\" fill=\"#000000\">workingday ≤ 0.5</text>\n",
       "<text text-anchor=\"start\" x=\"534.1667\" y=\"-342.3\" font-family=\"Times,serif\" font-size=\"14.00\" fill=\"#000000\">mse = 2246.17</text>\n",
       "<text text-anchor=\"start\" x=\"535.1667\" y=\"-327.3\" font-family=\"Times,serif\" font-size=\"14.00\" fill=\"#000000\">samples = 543</text>\n",
       "<text text-anchor=\"start\" x=\"534.1667\" y=\"-312.3\" font-family=\"Times,serif\" font-size=\"14.00\" fill=\"#000000\">value = 66.383</text>\n",
       "</g>\n",
       "<!-- 1&#45;&gt;5 -->\n",
       "<g id=\"edge5\" class=\"edge\">\n",
       "<title>1&#45;&gt;5</title>\n",
       "<path fill=\"none\" stroke=\"#000000\" d=\"M387.8535,-338.5C423.2041,-338.5 469.9347,-338.5 507.9384,-338.5\"/>\n",
       "<polygon fill=\"#000000\" stroke=\"#000000\" points=\"508.4092,-342.0001 518.4092,-338.5 508.4092,-335.0001 508.4092,-342.0001\"/>\n",
       "</g>\n",
       "<!-- 3 -->\n",
       "<g id=\"node4\" class=\"node\">\n",
       "<title>3</title>\n",
       "<polygon fill=\"#e58139\" fill-opacity=\"0.070588\" stroke=\"#000000\" points=\"876.6667,-550 770.6667,-550 770.6667,-497 876.6667,-497 876.6667,-550\"/>\n",
       "<text text-anchor=\"start\" x=\"778.6667\" y=\"-534.8\" font-family=\"Times,serif\" font-size=\"14.00\" fill=\"#000000\">mse = 1149.432</text>\n",
       "<text text-anchor=\"start\" x=\"779.6667\" y=\"-519.8\" font-family=\"Times,serif\" font-size=\"14.00\" fill=\"#000000\">samples = 1085</text>\n",
       "<text text-anchor=\"start\" x=\"782.1667\" y=\"-504.8\" font-family=\"Times,serif\" font-size=\"14.00\" fill=\"#000000\">value = 38.269</text>\n",
       "</g>\n",
       "<!-- 2&#45;&gt;3 -->\n",
       "<g id=\"edge3\" class=\"edge\">\n",
       "<title>2&#45;&gt;3</title>\n",
       "<path fill=\"none\" stroke=\"#000000\" d=\"M627.9581,-467.4705C666.7691,-478.5817 719.8599,-493.7811 760.9538,-505.5459\"/>\n",
       "<polygon fill=\"#000000\" stroke=\"#000000\" points=\"760.0151,-508.9177 770.5922,-508.3053 761.9418,-502.1881 760.0151,-508.9177\"/>\n",
       "</g>\n",
       "<!-- 4 -->\n",
       "<g id=\"node5\" class=\"node\">\n",
       "<title>4</title>\n",
       "<polygon fill=\"transparent\" stroke=\"#000000\" points=\"875.6667,-479 771.6667,-479 771.6667,-426 875.6667,-426 875.6667,-479\"/>\n",
       "<text text-anchor=\"start\" x=\"782.1667\" y=\"-463.8\" font-family=\"Times,serif\" font-size=\"14.00\" fill=\"#000000\">mse = 236.332</text>\n",
       "<text text-anchor=\"start\" x=\"779.6667\" y=\"-448.8\" font-family=\"Times,serif\" font-size=\"14.00\" fill=\"#000000\">samples = 2102</text>\n",
       "<text text-anchor=\"start\" x=\"782.1667\" y=\"-433.8\" font-family=\"Times,serif\" font-size=\"14.00\" fill=\"#000000\">value = 13.408</text>\n",
       "</g>\n",
       "<!-- 2&#45;&gt;4 -->\n",
       "<g id=\"edge4\" class=\"edge\">\n",
       "<title>2&#45;&gt;4</title>\n",
       "<path fill=\"none\" stroke=\"#000000\" d=\"M627.9581,-452.5C666.8674,-452.5 720.1288,-452.5 761.2656,-452.5\"/>\n",
       "<polygon fill=\"#000000\" stroke=\"#000000\" points=\"761.4468,-456.0001 771.4468,-452.5 761.4468,-449.0001 761.4468,-456.0001\"/>\n",
       "</g>\n",
       "<!-- 6 -->\n",
       "<g id=\"node7\" class=\"node\">\n",
       "<title>6</title>\n",
       "<polygon fill=\"#e58139\" fill-opacity=\"0.011765\" stroke=\"#000000\" points=\"873.1667,-408 774.1667,-408 774.1667,-355 873.1667,-355 873.1667,-408\"/>\n",
       "<text text-anchor=\"start\" x=\"782.1667\" y=\"-392.8\" font-family=\"Times,serif\" font-size=\"14.00\" fill=\"#000000\">mse = 275.046</text>\n",
       "<text text-anchor=\"start\" x=\"783.1667\" y=\"-377.8\" font-family=\"Times,serif\" font-size=\"14.00\" fill=\"#000000\">samples = 170</text>\n",
       "<text text-anchor=\"start\" x=\"782.1667\" y=\"-362.8\" font-family=\"Times,serif\" font-size=\"14.00\" fill=\"#000000\">value = 16.865</text>\n",
       "</g>\n",
       "<!-- 5&#45;&gt;6 -->\n",
       "<g id=\"edge6\" class=\"edge\">\n",
       "<title>5&#45;&gt;6</title>\n",
       "<path fill=\"none\" stroke=\"#000000\" d=\"M632.8743,-348.4191C672.0889,-355.2184 724.0067,-364.2202 763.7825,-371.1169\"/>\n",
       "<polygon fill=\"#000000\" stroke=\"#000000\" points=\"763.4265,-374.6073 773.8774,-372.8672 764.6224,-367.7102 763.4265,-374.6073\"/>\n",
       "</g>\n",
       "<!-- 7 -->\n",
       "<g id=\"node8\" class=\"node\">\n",
       "<title>7</title>\n",
       "<polygon fill=\"#e58139\" fill-opacity=\"0.215686\" stroke=\"#000000\" points=\"876.6667,-337 770.6667,-337 770.6667,-284 876.6667,-284 876.6667,-337\"/>\n",
       "<text text-anchor=\"start\" x=\"778.6667\" y=\"-321.8\" font-family=\"Times,serif\" font-size=\"14.00\" fill=\"#000000\">mse = 1517.628</text>\n",
       "<text text-anchor=\"start\" x=\"783.1667\" y=\"-306.8\" font-family=\"Times,serif\" font-size=\"14.00\" fill=\"#000000\">samples = 373</text>\n",
       "<text text-anchor=\"start\" x=\"782.1667\" y=\"-291.8\" font-family=\"Times,serif\" font-size=\"14.00\" fill=\"#000000\">value = 88.952</text>\n",
       "</g>\n",
       "<!-- 5&#45;&gt;7 -->\n",
       "<g id=\"edge7\" class=\"edge\">\n",
       "<title>5&#45;&gt;7</title>\n",
       "<path fill=\"none\" stroke=\"#000000\" d=\"M632.8743,-332.0411C671.0361,-327.7325 721.2283,-322.0656 760.5533,-317.6257\"/>\n",
       "<polygon fill=\"#000000\" stroke=\"#000000\" points=\"761.0166,-321.0957 770.5608,-316.4958 760.2312,-314.1399 761.0166,-321.0957\"/>\n",
       "</g>\n",
       "<!-- 9 -->\n",
       "<g id=\"node10\" class=\"node\">\n",
       "<title>9</title>\n",
       "<polygon fill=\"#e58139\" fill-opacity=\"0.396078\" stroke=\"#000000\" points=\"632.1667,-245.5 519.1667,-245.5 519.1667,-177.5 632.1667,-177.5 632.1667,-245.5\"/>\n",
       "<text text-anchor=\"start\" x=\"549.6667\" y=\"-230.3\" font-family=\"Times,serif\" font-size=\"14.00\" fill=\"#000000\">hr ≤ 19.5</text>\n",
       "<text text-anchor=\"start\" x=\"527.1667\" y=\"-215.3\" font-family=\"Times,serif\" font-size=\"14.00\" fill=\"#000000\">mse = 13663.351</text>\n",
       "<text text-anchor=\"start\" x=\"531.6667\" y=\"-200.3\" font-family=\"Times,serif\" font-size=\"14.00\" fill=\"#000000\">samples = 4240</text>\n",
       "<text text-anchor=\"start\" x=\"530.6667\" y=\"-185.3\" font-family=\"Times,serif\" font-size=\"14.00\" fill=\"#000000\">value = 152.564</text>\n",
       "</g>\n",
       "<!-- 8&#45;&gt;9 -->\n",
       "<g id=\"edge9\" class=\"edge\">\n",
       "<title>8&#45;&gt;9</title>\n",
       "<path fill=\"none\" stroke=\"#000000\" d=\"M387.8535,-211.5C423.4824,-211.5 470.6712,-211.5 508.8343,-211.5\"/>\n",
       "<polygon fill=\"#000000\" stroke=\"#000000\" points=\"508.8344,-215.0001 518.8344,-211.5 508.8343,-208.0001 508.8344,-215.0001\"/>\n",
       "</g>\n",
       "<!-- 12 -->\n",
       "<g id=\"node13\" class=\"node\">\n",
       "<title>12</title>\n",
       "<polygon fill=\"#e58139\" fill-opacity=\"0.768627\" stroke=\"#000000\" points=\"632.1667,-131.5 519.1667,-131.5 519.1667,-63.5 632.1667,-63.5 632.1667,-131.5\"/>\n",
       "<text text-anchor=\"start\" x=\"553.1667\" y=\"-116.3\" font-family=\"Times,serif\" font-size=\"14.00\" fill=\"#000000\">yr ≤ 0.5</text>\n",
       "<text text-anchor=\"start\" x=\"527.1667\" y=\"-101.3\" font-family=\"Times,serif\" font-size=\"14.00\" fill=\"#000000\">mse = 26361.488</text>\n",
       "<text text-anchor=\"start\" x=\"531.6667\" y=\"-86.3\" font-family=\"Times,serif\" font-size=\"14.00\" fill=\"#000000\">samples = 5033</text>\n",
       "<text text-anchor=\"start\" x=\"530.6667\" y=\"-71.3\" font-family=\"Times,serif\" font-size=\"14.00\" fill=\"#000000\">value = 283.758</text>\n",
       "</g>\n",
       "<!-- 8&#45;&gt;12 -->\n",
       "<g id=\"edge12\" class=\"edge\">\n",
       "<title>8&#45;&gt;12</title>\n",
       "<path fill=\"none\" stroke=\"#000000\" d=\"M387.8535,-186.3411C423.634,-169.4159 471.073,-146.9758 509.321,-128.8834\"/>\n",
       "<polygon fill=\"#000000\" stroke=\"#000000\" points=\"511.2913,-131.8233 518.8344,-124.3833 508.2981,-125.4955 511.2913,-131.8233\"/>\n",
       "</g>\n",
       "<!-- 10 -->\n",
       "<g id=\"node11\" class=\"node\">\n",
       "<title>10</title>\n",
       "<polygon fill=\"#e58139\" fill-opacity=\"0.458824\" stroke=\"#000000\" points=\"880.1667,-266 767.1667,-266 767.1667,-213 880.1667,-213 880.1667,-266\"/>\n",
       "<text text-anchor=\"start\" x=\"775.1667\" y=\"-250.8\" font-family=\"Times,serif\" font-size=\"14.00\" fill=\"#000000\">mse = 15235.513</text>\n",
       "<text text-anchor=\"start\" x=\"779.6667\" y=\"-235.8\" font-family=\"Times,serif\" font-size=\"14.00\" fill=\"#000000\">samples = 3177</text>\n",
       "<text text-anchor=\"start\" x=\"778.6667\" y=\"-220.8\" font-family=\"Times,serif\" font-size=\"14.00\" fill=\"#000000\">value = 174.573</text>\n",
       "</g>\n",
       "<!-- 9&#45;&gt;10 -->\n",
       "<g id=\"edge10\" class=\"edge\">\n",
       "<title>9&#45;&gt;10</title>\n",
       "<path fill=\"none\" stroke=\"#000000\" d=\"M632.252,-217.8887C669.2593,-222.0669 717.7764,-227.5446 756.7044,-231.9397\"/>\n",
       "<polygon fill=\"#000000\" stroke=\"#000000\" points=\"756.566,-235.4463 766.8956,-233.0904 757.3514,-228.4905 756.566,-235.4463\"/>\n",
       "</g>\n",
       "<!-- 11 -->\n",
       "<g id=\"node12\" class=\"node\">\n",
       "<title>11</title>\n",
       "<polygon fill=\"#e58139\" fill-opacity=\"0.207843\" stroke=\"#000000\" points=\"876.6667,-195 770.6667,-195 770.6667,-142 876.6667,-142 876.6667,-195\"/>\n",
       "<text text-anchor=\"start\" x=\"778.6667\" y=\"-179.8\" font-family=\"Times,serif\" font-size=\"14.00\" fill=\"#000000\">mse = 3190.266</text>\n",
       "<text text-anchor=\"start\" x=\"779.6667\" y=\"-164.8\" font-family=\"Times,serif\" font-size=\"14.00\" fill=\"#000000\">samples = 1063</text>\n",
       "<text text-anchor=\"start\" x=\"782.1667\" y=\"-149.8\" font-family=\"Times,serif\" font-size=\"14.00\" fill=\"#000000\">value = 86.786</text>\n",
       "</g>\n",
       "<!-- 9&#45;&gt;11 -->\n",
       "<g id=\"edge11\" class=\"edge\">\n",
       "<title>9&#45;&gt;11</title>\n",
       "<path fill=\"none\" stroke=\"#000000\" d=\"M632.252,-201.6888C670.3901,-195.0762 720.7522,-186.344 760.2454,-179.4964\"/>\n",
       "<polygon fill=\"#000000\" stroke=\"#000000\" points=\"761.0416,-182.9107 770.2967,-177.7537 759.8457,-176.0136 761.0416,-182.9107\"/>\n",
       "</g>\n",
       "<!-- 13 -->\n",
       "<g id=\"node14\" class=\"node\">\n",
       "<title>13</title>\n",
       "<polygon fill=\"#e58139\" fill-opacity=\"0.658824\" stroke=\"#000000\" points=\"880.1667,-124 767.1667,-124 767.1667,-71 880.1667,-71 880.1667,-124\"/>\n",
       "<text text-anchor=\"start\" x=\"775.1667\" y=\"-108.8\" font-family=\"Times,serif\" font-size=\"14.00\" fill=\"#000000\">mse = 17108.856</text>\n",
       "<text text-anchor=\"start\" x=\"779.6667\" y=\"-93.8\" font-family=\"Times,serif\" font-size=\"14.00\" fill=\"#000000\">samples = 3398</text>\n",
       "<text text-anchor=\"start\" x=\"778.6667\" y=\"-78.8\" font-family=\"Times,serif\" font-size=\"14.00\" fill=\"#000000\">value = 244.817</text>\n",
       "</g>\n",
       "<!-- 12&#45;&gt;13 -->\n",
       "<g id=\"edge13\" class=\"edge\">\n",
       "<title>12&#45;&gt;13</title>\n",
       "<path fill=\"none\" stroke=\"#000000\" d=\"M632.252,-97.5C669.2593,-97.5 717.7764,-97.5 756.7044,-97.5\"/>\n",
       "<polygon fill=\"#000000\" stroke=\"#000000\" points=\"756.8956,-101.0001 766.8956,-97.5 756.8956,-94.0001 756.8956,-101.0001\"/>\n",
       "</g>\n",
       "<!-- 14 -->\n",
       "<g id=\"node15\" class=\"node\">\n",
       "<title>14</title>\n",
       "<polygon fill=\"#e58139\" stroke=\"#000000\" points=\"880.1667,-53 767.1667,-53 767.1667,0 880.1667,0 880.1667,-53\"/>\n",
       "<text text-anchor=\"start\" x=\"775.1667\" y=\"-37.8\" font-family=\"Times,serif\" font-size=\"14.00\" fill=\"#000000\">mse = 35889.716</text>\n",
       "<text text-anchor=\"start\" x=\"779.6667\" y=\"-22.8\" font-family=\"Times,serif\" font-size=\"14.00\" fill=\"#000000\">samples = 1635</text>\n",
       "<text text-anchor=\"start\" x=\"778.6667\" y=\"-7.8\" font-family=\"Times,serif\" font-size=\"14.00\" fill=\"#000000\">value = 364.689</text>\n",
       "</g>\n",
       "<!-- 12&#45;&gt;14 -->\n",
       "<g id=\"edge14\" class=\"edge\">\n",
       "<title>12&#45;&gt;14</title>\n",
       "<path fill=\"none\" stroke=\"#000000\" d=\"M632.252,-81.3002C669.4168,-70.6603 718.1895,-56.6971 757.2008,-45.5285\"/>\n",
       "<polygon fill=\"#000000\" stroke=\"#000000\" points=\"758.2452,-48.8702 766.8956,-42.753 756.3185,-42.1406 758.2452,-48.8702\"/>\n",
       "</g>\n",
       "</g>\n",
       "</svg>\n"
      ],
      "text/plain": [
       "<graphviz.files.Source at 0x7f2b29a918d0>"
      ]
     },
     "metadata": {},
     "output_type": "display_data"
    }
   ],
   "source": [
    "draw_tree(model.estimators_[0], X_train, precision=3)"
   ]
  },
  {
   "cell_type": "code",
   "execution_count": 15,
   "metadata": {},
   "outputs": [
    {
     "name": "stdout",
     "output_type": "stream",
     "text": [
      "[0.008443012854785078, 0.4930636558530992, 0.9999890547438914, 0.8459211358925824]\n"
     ]
    }
   ],
   "source": [
    "model = RandomForestRegressor(n_estimators=1, bootstrap=False)\n",
    "model.fit(X_train, y_train)\n",
    "print_score(model)"
   ]
  },
  {
   "cell_type": "code",
   "execution_count": 24,
   "metadata": {},
   "outputs": [
    {
     "name": "stdout",
     "output_type": "stream",
     "text": [
      "[0.17646034409852365, 0.39748108400251925, 0.9889539960228737, 0.8900380998681449]\n"
     ]
    }
   ],
   "source": [
    "model = RandomForestRegressor(n_estimators=10)\n",
    "model.fit(X_train, y_train)\n",
    "print_score(model)"
   ]
  },
  {
   "cell_type": "code",
   "execution_count": 25,
   "metadata": {},
   "outputs": [],
   "source": [
    "preds = np.stack([t.predict(X_valid) for t in model.estimators_])"
   ]
  },
  {
   "cell_type": "code",
   "execution_count": 26,
   "metadata": {},
   "outputs": [
    {
     "data": {
      "text/plain": [
       "(10, 4352)"
      ]
     },
     "execution_count": 26,
     "metadata": {},
     "output_type": "execute_result"
    }
   ],
   "source": [
    "preds.shape"
   ]
  },
  {
   "cell_type": "code",
   "execution_count": 27,
   "metadata": {
    "collapsed": true
   },
   "outputs": [],
   "source": [
    "matplotlib.rc('xtick', labelsize=14) \n",
    "matplotlib.rc('ytick', labelsize=14)\n",
    "matplotlib.rcParams.update({'font.size': 15})"
   ]
  },
  {
   "cell_type": "code",
   "execution_count": 28,
   "metadata": {},
   "outputs": [
    {
     "data": {
      "image/png": "[encoded data removed]",
      "text/plain": [
       "<matplotlib.figure.Figure at 0x7f2b29a30668>"
      ]
     },
     "metadata": {},
     "output_type": "display_data"
    }
   ],
   "source": [
    "plt.figure(figsize=(10, 6))\n",
    "plt.plot([metrics.r2_score(y_valid, np.mean(preds[:i+1], axis=0)) for i in range(10)])\n",
    "plt.xlabel('Number of trees')\n",
    "plt.ylabel('R-squared');"
   ]
  },
  {
   "cell_type": "code",
   "execution_count": null,
   "metadata": {
    "collapsed": true
   },
   "outputs": [],
   "source": []
  }
 ],
 "metadata": {
  "kernelspec": {
   "display_name": "Python 3",
   "language": "python",
   "name": "python3"
  },
  "language_info": {
   "codemirror_mode": {
    "name": "ipython",
    "version": 3
   },
   "file_extension": ".py",
   "mimetype": "text/x-python",
   "name": "python",
   "nbconvert_exporter": "python",
   "pygments_lexer": "ipython3",
   "version": "3.6.4"
  }
 },
 "nbformat": 4,
 "nbformat_minor": 2
}
